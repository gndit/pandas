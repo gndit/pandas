{
 "cells": [
  {
   "cell_type": "code",
   "execution_count": 1,
   "metadata": {},
   "outputs": [],
   "source": [
    "import pandas as pd"
   ]
  },
  {
   "cell_type": "code",
   "execution_count": 17,
   "metadata": {},
   "outputs": [
    {
     "name": "stdout",
     "output_type": "stream",
     "text": [
      "      name  age  class qualification\n",
      "0     atul   21     12       diploma\n",
      "1    akash   20     11           iti\n",
      "2     amit   23     13           bsc\n",
      "3    ankit   22     14            ba\n",
      "4  akashay    8      2         fifth\n",
      "5    abhay   12      8        second\n"
     ]
    }
   ],
   "source": [
    "data={\"name\":['atul','akash','amit','ankit','akashay','abhay'],\n",
    "     \"age\":[21,20,23,22,8,12],\n",
    "     \"class\":[12,11,13,14,2,8],\n",
    "     \"qualification\":['diploma','iti','bsc','ba','fifth','second']}\n",
    "df=pd.DataFrame(data)\n",
    "print(df)"
   ]
  },
  {
   "cell_type": "code",
   "execution_count": 18,
   "metadata": {},
   "outputs": [
    {
     "data": {
      "text/html": [
       "<div>\n",
       "<style scoped>\n",
       "    .dataframe tbody tr th:only-of-type {\n",
       "        vertical-align: middle;\n",
       "    }\n",
       "\n",
       "    .dataframe tbody tr th {\n",
       "        vertical-align: top;\n",
       "    }\n",
       "\n",
       "    .dataframe thead th {\n",
       "        text-align: right;\n",
       "    }\n",
       "</style>\n",
       "<table border=\"1\" class=\"dataframe\">\n",
       "  <thead>\n",
       "    <tr style=\"text-align: right;\">\n",
       "      <th></th>\n",
       "      <th>name</th>\n",
       "      <th>class</th>\n",
       "    </tr>\n",
       "  </thead>\n",
       "  <tbody>\n",
       "    <tr>\n",
       "      <th>1</th>\n",
       "      <td>akash</td>\n",
       "      <td>11</td>\n",
       "    </tr>\n",
       "    <tr>\n",
       "      <th>2</th>\n",
       "      <td>amit</td>\n",
       "      <td>13</td>\n",
       "    </tr>\n",
       "    <tr>\n",
       "      <th>3</th>\n",
       "      <td>ankit</td>\n",
       "      <td>14</td>\n",
       "    </tr>\n",
       "  </tbody>\n",
       "</table>\n",
       "</div>"
      ],
      "text/plain": [
       "    name  class\n",
       "1  akash     11\n",
       "2   amit     13\n",
       "3  ankit     14"
      ]
     },
     "execution_count": 18,
     "metadata": {},
     "output_type": "execute_result"
    }
   ],
   "source": [
    "#using .loc method\n",
    "\n",
    "#selecting three rows and two columns\n",
    "df.loc[1:3 ,[\"name\", \"class\"]]"
   ]
  },
  {
   "cell_type": "code",
   "execution_count": 19,
   "metadata": {},
   "outputs": [
    {
     "data": {
      "text/html": [
       "<div>\n",
       "<style scoped>\n",
       "    .dataframe tbody tr th:only-of-type {\n",
       "        vertical-align: middle;\n",
       "    }\n",
       "\n",
       "    .dataframe tbody tr th {\n",
       "        vertical-align: top;\n",
       "    }\n",
       "\n",
       "    .dataframe thead th {\n",
       "        text-align: right;\n",
       "    }\n",
       "</style>\n",
       "<table border=\"1\" class=\"dataframe\">\n",
       "  <thead>\n",
       "    <tr style=\"text-align: right;\">\n",
       "      <th></th>\n",
       "      <th>name</th>\n",
       "      <th>age</th>\n",
       "      <th>class</th>\n",
       "      <th>qualification</th>\n",
       "    </tr>\n",
       "  </thead>\n",
       "  <tbody>\n",
       "    <tr>\n",
       "      <th>0</th>\n",
       "      <td>atul</td>\n",
       "      <td>21</td>\n",
       "      <td>12</td>\n",
       "      <td>diploma</td>\n",
       "    </tr>\n",
       "    <tr>\n",
       "      <th>1</th>\n",
       "      <td>akash</td>\n",
       "      <td>20</td>\n",
       "      <td>11</td>\n",
       "      <td>iti</td>\n",
       "    </tr>\n",
       "    <tr>\n",
       "      <th>2</th>\n",
       "      <td>amit</td>\n",
       "      <td>23</td>\n",
       "      <td>13</td>\n",
       "      <td>bsc</td>\n",
       "    </tr>\n",
       "  </tbody>\n",
       "</table>\n",
       "</div>"
      ],
      "text/plain": [
       "    name  age  class qualification\n",
       "0   atul   21     12       diploma\n",
       "1  akash   20     11           iti\n",
       "2   amit   23     13           bsc"
      ]
     },
     "execution_count": 19,
     "metadata": {},
     "output_type": "execute_result"
    }
   ],
   "source": [
    "#selecting three rows and name to qualification all columns\n",
    "df.loc[0:2 , \"name\":\"qualification\"]"
   ]
  },
  {
   "cell_type": "code",
   "execution_count": 20,
   "metadata": {},
   "outputs": [
    {
     "data": {
      "text/plain": [
       "name                atul\n",
       "age                   21\n",
       "class                 12\n",
       "qualification    diploma\n",
       "Name: 0, dtype: object"
      ]
     },
     "execution_count": 20,
     "metadata": {},
     "output_type": "execute_result"
    }
   ],
   "source": [
    "# .loc DataFrame method \n",
    "# filtering rows and selecting columns by label \n",
    "# format \n",
    "# df.loc[rows, columns] \n",
    "# row 1, all columns \n",
    "df.loc[0, :] "
   ]
  },
  {
   "cell_type": "code",
   "execution_count": 21,
   "metadata": {},
   "outputs": [
    {
     "data": {
      "text/html": [
       "<div>\n",
       "<style scoped>\n",
       "    .dataframe tbody tr th:only-of-type {\n",
       "        vertical-align: middle;\n",
       "    }\n",
       "\n",
       "    .dataframe tbody tr th {\n",
       "        vertical-align: top;\n",
       "    }\n",
       "\n",
       "    .dataframe thead th {\n",
       "        text-align: right;\n",
       "    }\n",
       "</style>\n",
       "<table border=\"1\" class=\"dataframe\">\n",
       "  <thead>\n",
       "    <tr style=\"text-align: right;\">\n",
       "      <th></th>\n",
       "      <th>name</th>\n",
       "      <th>age</th>\n",
       "    </tr>\n",
       "  </thead>\n",
       "  <tbody>\n",
       "    <tr>\n",
       "      <th>0</th>\n",
       "      <td>atul</td>\n",
       "      <td>21</td>\n",
       "    </tr>\n",
       "    <tr>\n",
       "      <th>1</th>\n",
       "      <td>akash</td>\n",
       "      <td>20</td>\n",
       "    </tr>\n",
       "    <tr>\n",
       "      <th>2</th>\n",
       "      <td>amit</td>\n",
       "      <td>23</td>\n",
       "    </tr>\n",
       "    <tr>\n",
       "      <th>3</th>\n",
       "      <td>ankit</td>\n",
       "      <td>22</td>\n",
       "    </tr>\n",
       "    <tr>\n",
       "      <th>4</th>\n",
       "      <td>akashay</td>\n",
       "      <td>8</td>\n",
       "    </tr>\n",
       "    <tr>\n",
       "      <th>5</th>\n",
       "      <td>abhay</td>\n",
       "      <td>12</td>\n",
       "    </tr>\n",
       "  </tbody>\n",
       "</table>\n",
       "</div>"
      ],
      "text/plain": [
       "      name  age\n",
       "0     atul   21\n",
       "1    akash   20\n",
       "2     amit   23\n",
       "3    ankit   22\n",
       "4  akashay    8\n",
       "5    abhay   12"
      ]
     },
     "execution_count": 21,
     "metadata": {},
     "output_type": "execute_result"
    }
   ],
   "source": [
    "#using iloc method\n",
    "\n",
    "# Remember that Python does not \n",
    "# slice inclusive of the ending index. \n",
    "# select all rows  \n",
    "# select first two column \n",
    "df.iloc[:, 0:2]  "
   ]
  },
  {
   "cell_type": "code",
   "execution_count": 22,
   "metadata": {},
   "outputs": [
    {
     "data": {
      "text/html": [
       "<div>\n",
       "<style scoped>\n",
       "    .dataframe tbody tr th:only-of-type {\n",
       "        vertical-align: middle;\n",
       "    }\n",
       "\n",
       "    .dataframe tbody tr th {\n",
       "        vertical-align: top;\n",
       "    }\n",
       "\n",
       "    .dataframe thead th {\n",
       "        text-align: right;\n",
       "    }\n",
       "</style>\n",
       "<table border=\"1\" class=\"dataframe\">\n",
       "  <thead>\n",
       "    <tr style=\"text-align: right;\">\n",
       "      <th></th>\n",
       "      <th>age</th>\n",
       "      <th>class</th>\n",
       "    </tr>\n",
       "  </thead>\n",
       "  <tbody>\n",
       "    <tr>\n",
       "      <th>0</th>\n",
       "      <td>21</td>\n",
       "      <td>12</td>\n",
       "    </tr>\n",
       "    <tr>\n",
       "      <th>1</th>\n",
       "      <td>20</td>\n",
       "      <td>11</td>\n",
       "    </tr>\n",
       "  </tbody>\n",
       "</table>\n",
       "</div>"
      ],
      "text/plain": [
       "   age  class\n",
       "0   21     12\n",
       "1   20     11"
      ]
     },
     "execution_count": 22,
     "metadata": {},
     "output_type": "execute_result"
    }
   ],
   "source": [
    "#using all  rows and some columns\n",
    "\n",
    "# iloc[row slicing, column slicing] \n",
    "df.iloc [0:2, 1:3] "
   ]
  },
  {
   "cell_type": "code",
   "execution_count": 26,
   "metadata": {},
   "outputs": [
    {
     "name": "stdout",
     "output_type": "stream",
     "text": [
      "      name  age\n",
      "0     atul   21\n",
      "1    akash   20\n",
      "2     amit   23\n",
      "3    ankit   22\n",
      "4  akashay    8\n",
      "5    abhay   12\n"
     ]
    },
    {
     "name": "stderr",
     "output_type": "stream",
     "text": [
      "/home/monu/anaconda3/lib/python3.7/site-packages/ipykernel_launcher.py:3: DeprecationWarning: \n",
      ".ix is deprecated. Please use\n",
      ".loc for label based indexing or\n",
      ".iloc for positional indexing\n",
      "\n",
      "See the documentation here:\n",
      "http://pandas.pydata.org/pandas-docs/stable/indexing.html#ix-indexer-is-deprecated\n",
      "  This is separate from the ipykernel package so we can avoid doing imports until\n"
     ]
    }
   ],
   "source": [
    "#using .ix method\n",
    "# select all rows and 0 to 2 columns  \n",
    "print(df.ix[:, 0:2]) "
   ]
  },
  {
   "cell_type": "code",
   "execution_count": 27,
   "metadata": {},
   "outputs": [
    {
     "name": "stdout",
     "output_type": "stream",
     "text": [
      "      name  age  class qualification Address\n",
      "0     atul   21     12       diploma      up\n",
      "1    akash   20     11           iti   delhi\n",
      "2     amit   23     13           bsc      mp\n",
      "3    ankit   22     14            ba   bihar\n",
      "4  akashay    8      2         fifth  mumbai\n",
      "5    abhay   12      8        second      uk\n"
     ]
    }
   ],
   "source": [
    "#Addition of column\n",
    "address=[\"up\",\"delhi\",\"mp\",\"bihar\",\"mumbai\",\"uk\"]\n",
    "df[\"Address\"]=address\n",
    "print(df)"
   ]
  },
  {
   "cell_type": "code",
   "execution_count": 30,
   "metadata": {},
   "outputs": [
    {
     "data": {
      "text/html": [
       "<div>\n",
       "<style scoped>\n",
       "    .dataframe tbody tr th:only-of-type {\n",
       "        vertical-align: middle;\n",
       "    }\n",
       "\n",
       "    .dataframe tbody tr th {\n",
       "        vertical-align: top;\n",
       "    }\n",
       "\n",
       "    .dataframe thead th {\n",
       "        text-align: right;\n",
       "    }\n",
       "</style>\n",
       "<table border=\"1\" class=\"dataframe\">\n",
       "  <thead>\n",
       "    <tr style=\"text-align: right;\">\n",
       "      <th></th>\n",
       "      <th>name</th>\n",
       "      <th>lastname</th>\n",
       "      <th>age</th>\n",
       "      <th>lastname</th>\n",
       "      <th>class</th>\n",
       "      <th>qualification</th>\n",
       "      <th>Address</th>\n",
       "    </tr>\n",
       "  </thead>\n",
       "  <tbody>\n",
       "    <tr>\n",
       "      <th>0</th>\n",
       "      <td>atul</td>\n",
       "      <td>patel</td>\n",
       "      <td>21</td>\n",
       "      <td>patel</td>\n",
       "      <td>12</td>\n",
       "      <td>diploma</td>\n",
       "      <td>up</td>\n",
       "    </tr>\n",
       "    <tr>\n",
       "      <th>1</th>\n",
       "      <td>akash</td>\n",
       "      <td>verma</td>\n",
       "      <td>20</td>\n",
       "      <td>verma</td>\n",
       "      <td>11</td>\n",
       "      <td>iti</td>\n",
       "      <td>delhi</td>\n",
       "    </tr>\n",
       "    <tr>\n",
       "      <th>2</th>\n",
       "      <td>amit</td>\n",
       "      <td>soni</td>\n",
       "      <td>23</td>\n",
       "      <td>soni</td>\n",
       "      <td>13</td>\n",
       "      <td>bsc</td>\n",
       "      <td>mp</td>\n",
       "    </tr>\n",
       "    <tr>\n",
       "      <th>3</th>\n",
       "      <td>ankit</td>\n",
       "      <td>singh</td>\n",
       "      <td>22</td>\n",
       "      <td>singh</td>\n",
       "      <td>14</td>\n",
       "      <td>ba</td>\n",
       "      <td>bihar</td>\n",
       "    </tr>\n",
       "    <tr>\n",
       "      <th>4</th>\n",
       "      <td>akashay</td>\n",
       "      <td>gupta</td>\n",
       "      <td>8</td>\n",
       "      <td>gupta</td>\n",
       "      <td>2</td>\n",
       "      <td>fifth</td>\n",
       "      <td>mumbai</td>\n",
       "    </tr>\n",
       "    <tr>\n",
       "      <th>5</th>\n",
       "      <td>abhay</td>\n",
       "      <td>pandey</td>\n",
       "      <td>12</td>\n",
       "      <td>pandey</td>\n",
       "      <td>8</td>\n",
       "      <td>second</td>\n",
       "      <td>uk</td>\n",
       "    </tr>\n",
       "  </tbody>\n",
       "</table>\n",
       "</div>"
      ],
      "text/plain": [
       "      name lastname  age lastname  class qualification Address\n",
       "0     atul    patel   21    patel     12       diploma      up\n",
       "1    akash    verma   20    verma     11           iti   delhi\n",
       "2     amit     soni   23     soni     13           bsc      mp\n",
       "3    ankit    singh   22    singh     14            ba   bihar\n",
       "4  akashay    gupta    8    gupta      2         fifth  mumbai\n",
       "5    abhay   pandey   12   pandey      8        second      uk"
      ]
     },
     "execution_count": 30,
     "metadata": {},
     "output_type": "execute_result"
    }
   ],
   "source": [
    "#using .insert method\n",
    "#it provide to add columns in at any position where you want to insert\n",
    " \n",
    "# Using DataFrame.insert() to add a column \n",
    "df.insert(1, \"lastname\", [\"patel\",\"verma\",\"soni\",\"singh\",\"gupta\",\"pandey\"], True) \n",
    "  \n",
    "# Observe the result \n",
    "df "
   ]
  },
  {
   "cell_type": "code",
   "execution_count": 32,
   "metadata": {},
   "outputs": [
    {
     "data": {
      "text/html": [
       "<div>\n",
       "<style scoped>\n",
       "    .dataframe tbody tr th:only-of-type {\n",
       "        vertical-align: middle;\n",
       "    }\n",
       "\n",
       "    .dataframe tbody tr th {\n",
       "        vertical-align: top;\n",
       "    }\n",
       "\n",
       "    .dataframe thead th {\n",
       "        text-align: right;\n",
       "    }\n",
       "</style>\n",
       "<table border=\"1\" class=\"dataframe\">\n",
       "  <thead>\n",
       "    <tr style=\"text-align: right;\">\n",
       "      <th></th>\n",
       "      <th>name</th>\n",
       "      <th>lastname</th>\n",
       "      <th>age</th>\n",
       "      <th>lastname</th>\n",
       "      <th>class</th>\n",
       "      <th>qualification</th>\n",
       "      <th>Address</th>\n",
       "      <th>address</th>\n",
       "    </tr>\n",
       "  </thead>\n",
       "  <tbody>\n",
       "    <tr>\n",
       "      <th>0</th>\n",
       "      <td>atul</td>\n",
       "      <td>patel</td>\n",
       "      <td>21</td>\n",
       "      <td>patel</td>\n",
       "      <td>12</td>\n",
       "      <td>diploma</td>\n",
       "      <td>up</td>\n",
       "      <td>Delhi</td>\n",
       "    </tr>\n",
       "    <tr>\n",
       "      <th>1</th>\n",
       "      <td>akash</td>\n",
       "      <td>verma</td>\n",
       "      <td>20</td>\n",
       "      <td>verma</td>\n",
       "      <td>11</td>\n",
       "      <td>iti</td>\n",
       "      <td>delhi</td>\n",
       "      <td>Bangalore</td>\n",
       "    </tr>\n",
       "    <tr>\n",
       "      <th>2</th>\n",
       "      <td>amit</td>\n",
       "      <td>soni</td>\n",
       "      <td>23</td>\n",
       "      <td>soni</td>\n",
       "      <td>13</td>\n",
       "      <td>bsc</td>\n",
       "      <td>mp</td>\n",
       "      <td>Chennai</td>\n",
       "    </tr>\n",
       "    <tr>\n",
       "      <th>3</th>\n",
       "      <td>ankit</td>\n",
       "      <td>singh</td>\n",
       "      <td>22</td>\n",
       "      <td>singh</td>\n",
       "      <td>14</td>\n",
       "      <td>ba</td>\n",
       "      <td>bihar</td>\n",
       "      <td>Patna</td>\n",
       "    </tr>\n",
       "    <tr>\n",
       "      <th>4</th>\n",
       "      <td>akashay</td>\n",
       "      <td>gupta</td>\n",
       "      <td>8</td>\n",
       "      <td>gupta</td>\n",
       "      <td>2</td>\n",
       "      <td>fifth</td>\n",
       "      <td>mumbai</td>\n",
       "      <td>lanka</td>\n",
       "    </tr>\n",
       "    <tr>\n",
       "      <th>5</th>\n",
       "      <td>abhay</td>\n",
       "      <td>pandey</td>\n",
       "      <td>12</td>\n",
       "      <td>pandey</td>\n",
       "      <td>8</td>\n",
       "      <td>second</td>\n",
       "      <td>uk</td>\n",
       "      <td>cp</td>\n",
       "    </tr>\n",
       "  </tbody>\n",
       "</table>\n",
       "</div>"
      ],
      "text/plain": [
       "      name lastname  age lastname  class qualification Address    address\n",
       "0     atul    patel   21    patel     12       diploma      up      Delhi\n",
       "1    akash    verma   20    verma     11           iti   delhi  Bangalore\n",
       "2     amit     soni   23     soni     13           bsc      mp    Chennai\n",
       "3    ankit    singh   22    singh     14            ba   bihar      Patna\n",
       "4  akashay    gupta    8    gupta      2         fifth  mumbai      lanka\n",
       "5    abhay   pandey   12   pandey      8        second      uk         cp"
      ]
     },
     "execution_count": 32,
     "metadata": {},
     "output_type": "execute_result"
    }
   ],
   "source": [
    "#using .assign method\n",
    "# Using 'Address' as the column name and equating it to the list \n",
    "df2 = df.assign(address = ['Delhi', 'Bangalore', 'Chennai', 'Patna','lanka','cp']) \n",
    "   \n",
    "# Observe the result \n",
    "df2\n"
   ]
  },
  {
   "cell_type": "code",
   "execution_count": null,
   "metadata": {},
   "outputs": [],
   "source": []
  }
 ],
 "metadata": {
  "kernelspec": {
   "display_name": "Python 3",
   "language": "python",
   "name": "python3"
  },
  "language_info": {
   "codemirror_mode": {
    "name": "ipython",
    "version": 3
   },
   "file_extension": ".py",
   "mimetype": "text/x-python",
   "name": "python",
   "nbconvert_exporter": "python",
   "pygments_lexer": "ipython3",
   "version": "3.7.0"
  }
 },
 "nbformat": 4,
 "nbformat_minor": 2
}
